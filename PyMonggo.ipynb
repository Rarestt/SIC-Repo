{
 "cells": [
  {
   "cell_type": "code",
   "execution_count": null,
   "metadata": {},
   "outputs": [],
   "source": [
    "emp_rec1 = {\n",
    "        \"name\":\"Mr.Geek\",\n",
    "        \"eid\":24,\n",
    "        \"location\":\"delhi\"\n",
    "        }\n",
    "# Insert Data\n",
    "rec_id1 = mycol.insert_one(emp_rec1)\n",
    "\n",
    "mydb = conn.mydatabase\n",
    "mycol = mydb.sensors_data"
   ]
  }
 ],
 "metadata": {
  "language_info": {
   "name": "python"
  }
 },
 "nbformat": 4,
 "nbformat_minor": 2
}
